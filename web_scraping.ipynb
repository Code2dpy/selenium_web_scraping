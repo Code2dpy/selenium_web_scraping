{
 "metadata": {
  "language_info": {
   "codemirror_mode": {
    "name": "ipython",
    "version": 3
   },
   "file_extension": ".py",
   "mimetype": "text/x-python",
   "name": "python",
   "nbconvert_exporter": "python",
   "pygments_lexer": "ipython3",
   "version": "3.9.1"
  },
  "orig_nbformat": 4,
  "kernelspec": {
   "name": "python3",
   "display_name": "Python 3.9.1 64-bit"
  },
  "interpreter": {
   "hash": "2a7a987d8b537c6c999b240700fba8a6b26d59a26751a85a58131793db1a515b"
  }
 },
 "nbformat": 4,
 "nbformat_minor": 2,
 "cells": [
  {
   "source": [
    "**What is web scraping?**\n",
    "-\n",
    "*It is a technique used to collect content and data from the Internet.*\n",
    "*The data collected can be stored in a local file (say a .txt or .csv file) or displayed in terminal window using `print()` command*"
   ],
   "cell_type": "markdown",
   "metadata": {}
  },
  {
   "source": [
    "**Using Selenium**\n",
    "-\n",
    "*For this session we will be using `Selenium` for scraping because it is more easier comparing to other libraries like `bs4` which also sometimes do not return correct data*\n",
    "\n",
    "*For this, we will also be using a software called Chromedriver which is a .exe file that your Selenium uses to initiate the Google Chrome browser.Here is the link:*\n",
    "\n",
    "[https://chromedriver.chromium.org/downloads](https://chromedriver.chromium.org/downloads) \n",
    "\n",
    "*Though it is used mainly for Web Automation,it can also be used for the purpose of web scraping*\n",
    "\n",
    "*Below is an example of Selenium*"
   ],
   "cell_type": "markdown",
   "metadata": {}
  },
  {
   "cell_type": "code",
   "execution_count": 1,
   "metadata": {},
   "outputs": [],
   "source": [
    "import time\n",
    "from selenium import webdriver\n",
    "from selenium.webdriver.common.keys import Keys\n",
    "driver=webdriver.Chrome()\n",
    "driver.get(\"https://www.youtube.com\")\n",
    "search_box=driver.find_element_by_css_selector(\"#search\")\n",
    "search_box.click()\n",
    "search_box.send_keys(\"The Eternals\")\n",
    "search_box.send_keys(Keys.RETURN)\n",
    "time.sleep(2)\n",
    "video=driver.find_element_by_css_selector(\"#video-title > yt-formatted-string\")\n",
    "video.click()"
   ]
  },
  {
   "source": [],
   "cell_type": "markdown",
   "metadata": {}
  },
  {
   "cell_type": "code",
   "execution_count": 10,
   "metadata": {},
   "outputs": [
    {
     "output_type": "stream",
     "name": "stdout",
     "text": [
      "Born:\nStanley Martin Lieber\nDecember 28, 1922\nNew York City, New York, U.S.\nDied:\nNovember 12, 2018 (aged 95)\nLos Angeles, California, U.S.\nAreas:\nComic book writer\n"
     ]
    }
   ],
   "source": [
    "from selenium import webdriver\n",
    "from selenium.webdriver.chrome.options import Options\n",
    "chrome_options=Options()\n",
    "chrome_options.add_argument(\"--headless\")\n",
    "browser=webdriver.Chrome(executable_path=r\"C:\\Users\\Binoy\\Desktop\\Techwiz\\Python\\Python Projects\\chromedriver.exe\",options=chrome_options)\n",
    "browser.get(\"https://en.wikipedia.org/wiki/Stan_Lee\")\n",
    "birth_info=browser.find_element_by_css_selector(\"#mw-content-text > div.mw-parser-output > table.infobox.biography.vcard > tbody > tr:nth-child(3) > td\")\n",
    "death_info=browser.find_element_by_css_selector(\"#mw-content-text > div.mw-parser-output > table.infobox.biography.vcard > tbody > tr:nth-child(4) > td\")\n",
    "area_info=browser.find_element_by_css_selector(\"#mw-content-text > div.mw-parser-output > table.infobox.biography.vcard > tbody > tr:nth-child(5) > td\")\n",
    "print(\"Born:\")\n",
    "print(birth_info.text)\n",
    "print(\"Died:\")\n",
    "print(death_info.text)\n",
    "print(\"Areas:\")\n",
    "print(area_info.text.replace('editorpublisherproducer',\"\"))"
   ]
  },
  {
   "cell_type": "code",
   "execution_count": null,
   "metadata": {},
   "outputs": [],
   "source": []
  }
 ]
}